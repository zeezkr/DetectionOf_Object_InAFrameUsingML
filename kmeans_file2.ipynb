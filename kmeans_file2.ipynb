{
 "cells": [
  {
   "cell_type": "markdown",
   "id": "b199c4d8-0243-4d65-9270-45d81a8537cf",
   "metadata": {},
   "source": [
    "## Make two cluster then draw rectangles(red & green) using coordinates(x,y,w,h)"
   ]
  },
  {
   "cell_type": "code",
   "execution_count": 1,
   "id": "53f9a78e-21db-4903-a70c-3987228a24c5",
   "metadata": {},
   "outputs": [],
   "source": [
    "import pandas as pd\n",
    "import numpy as np\n",
    "import os\n",
    "import cv2\n",
    "from PIL import Image\n",
    "from sklearn.cluster import KMeans\n",
    "import matplotlib.pyplot as plt"
   ]
  },
  {
   "cell_type": "markdown",
   "id": "14c25658-3d64-4be4-b158-acc582062b22",
   "metadata": {},
   "source": [
    "#### step 1: Extract 60 frames from a video"
   ]
  },
  {
   "cell_type": "code",
   "execution_count": 15,
   "id": "1755cb08-f0cc-47b8-9a4d-50d03b6e70c6",
   "metadata": {},
   "outputs": [
    {
     "name": "stdout",
     "output_type": "stream",
     "text": [
      "Extracted 70 frames to 'C:\\Users\\zain\\Downloads\\AI_Najeed\\haar-Feb_2019\\70_images'.\n"
     ]
    }
   ],
   "source": [
    "'''\n",
    "def extract_frames(video_path, output_folder, num_frames=70):\n",
    "    # Create output folder if it doesn't exist\n",
    "    os.makedirs(output_folder, exist_ok=True)\n",
    "    \n",
    "    # Open the video file\n",
    "    cap = cv2.VideoCapture(video_path)\n",
    "    \n",
    "    # Get the total number of frames in the video\n",
    "    total_frames = int(cap.get(cv2.CAP_PROP_FRAME_COUNT))\n",
    "    \n",
    "    # Calculate the interval between frames to extract\n",
    "    frame_interval = max(total_frames // num_frames, 1)\n",
    "    \n",
    "    count = 0\n",
    "    extracted_frames = 0\n",
    "\n",
    "    while True:\n",
    "        ret, frame = cap.read()\n",
    "        if not ret:\n",
    "            break\n",
    "        \n",
    "        # Extract frame based on the calculated interval\n",
    "        if count % frame_interval == 0:\n",
    "            frame_filename = os.path.join(output_folder, f\"frame_{extracted_frames + 1}.jpg\")\n",
    "            cv2.imwrite(frame_filename, frame)\n",
    "            extracted_frames += 1\n",
    "        \n",
    "        count += 1\n",
    "        \n",
    "        # Stop if we have extracted the desired number of frames\n",
    "        if extracted_frames >= num_frames:\n",
    "            break\n",
    "    \n",
    "    cap.release()\n",
    "    print(f\"Extracted {extracted_frames} frames to '{output_folder}'.\")\n",
    "\n",
    "video_path =r'C:\\Users\\zain\\Downloads\\AI_Najeed\\haar-Feb_2019\\videos\\a.mp4'  # Change this to your video file path\n",
    "output_folder = r'C:\\Users\\zain\\Downloads\\AI_Najeed\\haar-Feb_2019\\70_images'\n",
    "extract_frames(video_path, output_folder)\n",
    "\n",
    "'''"
   ]
  },
  {
   "cell_type": "markdown",
   "id": "372d93f9-4ba1-4320-8917-1486e1e3f2dc",
   "metadata": {},
   "source": [
    "#### step 2: Resize images (large to small size"
   ]
  },
  {
   "cell_type": "code",
   "execution_count": 16,
   "id": "2970ad91-4677-4ff1-afe1-750a3f07386c",
   "metadata": {},
   "outputs": [],
   "source": [
    "'''\n",
    "def resize_images_in_folder(source_dir, target_dir):\n",
    "    # Loop through subfolders\n",
    "    for root, dirs, files in os.walk(source_dir):\n",
    "        for file in files:\n",
    "            # Check if the file is an image\n",
    "            if file.lower().endswith(('.jpg', '.jpeg', '.png', '.gif')):\n",
    "                # Create the target subfolder if it doesn't exist\n",
    "                target_subfolder = os.path.join(target_dir, os.path.relpath(root, source_dir))\n",
    "                os.makedirs(target_subfolder, exist_ok=True)\n",
    "\n",
    "                # Open the image file\n",
    "                source_path = os.path.join(root,file)\n",
    "                #image = cv2.imread(source_path)\n",
    "                image = Image.open(source_path)\n",
    "                # Check if the image is loaded successfully\n",
    "                if image is None:\n",
    "                    print(f\"Error: Unable to load the image from {source_path}\")\n",
    "                    continue\n",
    "                \n",
    "                # Normalize the image\n",
    "                resized_image =image.resize((new_width, new_height))\n",
    "                #print(resized_image) \n",
    "                # Save the resized image to the target subfolder\n",
    "                target_path = os.path.join(target_subfolder,file)\n",
    "               \n",
    "                #cv2.imwrite(target_path,resized_image)  \n",
    "                resized_image.save(target_path)\n",
    "\n",
    "                #print(f\"Resized and saved: {target_path}\")\n",
    "\n",
    "source_dir = r'C:\\Users\\zain\\Downloads\\AI_Najeed\\haar-Feb_2019\\70_images'\n",
    "target_dir = r'C:\\Users\\zain\\Downloads\\AI_Najeed\\haar-Feb_2019\\resize_images_70'\n",
    "new_width = 370\n",
    "new_height = 280\n",
    "\n",
    "resize_images_in_folder(source_dir,target_dir)\n",
    "\n",
    "'''"
   ]
  },
  {
   "cell_type": "markdown",
   "id": "740eb8e2-fea1-4716-946b-501ceed20c40",
   "metadata": {},
   "source": [
    "### step 3: Convert images to BMP format"
   ]
  },
  {
   "cell_type": "code",
   "execution_count": 17,
   "id": "bb02faa8-0ab3-4e73-a562-8122218a9066",
   "metadata": {},
   "outputs": [
    {
     "name": "stdout",
     "output_type": "stream",
     "text": [
      "Converted and saved: C:\\Users\\zain\\Downloads\\AI_Najeed\\haar-Feb_2019\\temp\\positive\\rawdata\\frame_1.bmp\n",
      "Converted and saved: C:\\Users\\zain\\Downloads\\AI_Najeed\\haar-Feb_2019\\temp\\positive\\rawdata\\frame_10.bmp\n",
      "Converted and saved: C:\\Users\\zain\\Downloads\\AI_Najeed\\haar-Feb_2019\\temp\\positive\\rawdata\\frame_11.bmp\n",
      "Converted and saved: C:\\Users\\zain\\Downloads\\AI_Najeed\\haar-Feb_2019\\temp\\positive\\rawdata\\frame_12.bmp\n",
      "Converted and saved: C:\\Users\\zain\\Downloads\\AI_Najeed\\haar-Feb_2019\\temp\\positive\\rawdata\\frame_13.bmp\n",
      "Converted and saved: C:\\Users\\zain\\Downloads\\AI_Najeed\\haar-Feb_2019\\temp\\positive\\rawdata\\frame_14.bmp\n",
      "Converted and saved: C:\\Users\\zain\\Downloads\\AI_Najeed\\haar-Feb_2019\\temp\\positive\\rawdata\\frame_15.bmp\n",
      "Converted and saved: C:\\Users\\zain\\Downloads\\AI_Najeed\\haar-Feb_2019\\temp\\positive\\rawdata\\frame_16.bmp\n",
      "Converted and saved: C:\\Users\\zain\\Downloads\\AI_Najeed\\haar-Feb_2019\\temp\\positive\\rawdata\\frame_17.bmp\n",
      "Converted and saved: C:\\Users\\zain\\Downloads\\AI_Najeed\\haar-Feb_2019\\temp\\positive\\rawdata\\frame_18.bmp\n",
      "Converted and saved: C:\\Users\\zain\\Downloads\\AI_Najeed\\haar-Feb_2019\\temp\\positive\\rawdata\\frame_19.bmp\n",
      "Converted and saved: C:\\Users\\zain\\Downloads\\AI_Najeed\\haar-Feb_2019\\temp\\positive\\rawdata\\frame_2.bmp\n",
      "Converted and saved: C:\\Users\\zain\\Downloads\\AI_Najeed\\haar-Feb_2019\\temp\\positive\\rawdata\\frame_20.bmp\n",
      "Converted and saved: C:\\Users\\zain\\Downloads\\AI_Najeed\\haar-Feb_2019\\temp\\positive\\rawdata\\frame_21.bmp\n",
      "Converted and saved: C:\\Users\\zain\\Downloads\\AI_Najeed\\haar-Feb_2019\\temp\\positive\\rawdata\\frame_22.bmp\n",
      "Converted and saved: C:\\Users\\zain\\Downloads\\AI_Najeed\\haar-Feb_2019\\temp\\positive\\rawdata\\frame_23.bmp\n",
      "Converted and saved: C:\\Users\\zain\\Downloads\\AI_Najeed\\haar-Feb_2019\\temp\\positive\\rawdata\\frame_24.bmp\n",
      "Converted and saved: C:\\Users\\zain\\Downloads\\AI_Najeed\\haar-Feb_2019\\temp\\positive\\rawdata\\frame_25.bmp\n",
      "Converted and saved: C:\\Users\\zain\\Downloads\\AI_Najeed\\haar-Feb_2019\\temp\\positive\\rawdata\\frame_26.bmp\n",
      "Converted and saved: C:\\Users\\zain\\Downloads\\AI_Najeed\\haar-Feb_2019\\temp\\positive\\rawdata\\frame_27.bmp\n",
      "Converted and saved: C:\\Users\\zain\\Downloads\\AI_Najeed\\haar-Feb_2019\\temp\\positive\\rawdata\\frame_28.bmp\n",
      "Converted and saved: C:\\Users\\zain\\Downloads\\AI_Najeed\\haar-Feb_2019\\temp\\positive\\rawdata\\frame_29.bmp\n",
      "Converted and saved: C:\\Users\\zain\\Downloads\\AI_Najeed\\haar-Feb_2019\\temp\\positive\\rawdata\\frame_3.bmp\n",
      "Converted and saved: C:\\Users\\zain\\Downloads\\AI_Najeed\\haar-Feb_2019\\temp\\positive\\rawdata\\frame_30.bmp\n",
      "Converted and saved: C:\\Users\\zain\\Downloads\\AI_Najeed\\haar-Feb_2019\\temp\\positive\\rawdata\\frame_31.bmp\n",
      "Converted and saved: C:\\Users\\zain\\Downloads\\AI_Najeed\\haar-Feb_2019\\temp\\positive\\rawdata\\frame_32.bmp\n",
      "Converted and saved: C:\\Users\\zain\\Downloads\\AI_Najeed\\haar-Feb_2019\\temp\\positive\\rawdata\\frame_33.bmp\n",
      "Converted and saved: C:\\Users\\zain\\Downloads\\AI_Najeed\\haar-Feb_2019\\temp\\positive\\rawdata\\frame_34.bmp\n",
      "Converted and saved: C:\\Users\\zain\\Downloads\\AI_Najeed\\haar-Feb_2019\\temp\\positive\\rawdata\\frame_35.bmp\n",
      "Converted and saved: C:\\Users\\zain\\Downloads\\AI_Najeed\\haar-Feb_2019\\temp\\positive\\rawdata\\frame_36.bmp\n",
      "Converted and saved: C:\\Users\\zain\\Downloads\\AI_Najeed\\haar-Feb_2019\\temp\\positive\\rawdata\\frame_37.bmp\n",
      "Converted and saved: C:\\Users\\zain\\Downloads\\AI_Najeed\\haar-Feb_2019\\temp\\positive\\rawdata\\frame_38.bmp\n",
      "Converted and saved: C:\\Users\\zain\\Downloads\\AI_Najeed\\haar-Feb_2019\\temp\\positive\\rawdata\\frame_39.bmp\n",
      "Converted and saved: C:\\Users\\zain\\Downloads\\AI_Najeed\\haar-Feb_2019\\temp\\positive\\rawdata\\frame_4.bmp\n",
      "Converted and saved: C:\\Users\\zain\\Downloads\\AI_Najeed\\haar-Feb_2019\\temp\\positive\\rawdata\\frame_40.bmp\n",
      "Converted and saved: C:\\Users\\zain\\Downloads\\AI_Najeed\\haar-Feb_2019\\temp\\positive\\rawdata\\frame_41.bmp\n",
      "Converted and saved: C:\\Users\\zain\\Downloads\\AI_Najeed\\haar-Feb_2019\\temp\\positive\\rawdata\\frame_42.bmp\n",
      "Converted and saved: C:\\Users\\zain\\Downloads\\AI_Najeed\\haar-Feb_2019\\temp\\positive\\rawdata\\frame_43.bmp\n",
      "Converted and saved: C:\\Users\\zain\\Downloads\\AI_Najeed\\haar-Feb_2019\\temp\\positive\\rawdata\\frame_44.bmp\n",
      "Converted and saved: C:\\Users\\zain\\Downloads\\AI_Najeed\\haar-Feb_2019\\temp\\positive\\rawdata\\frame_45.bmp\n",
      "Converted and saved: C:\\Users\\zain\\Downloads\\AI_Najeed\\haar-Feb_2019\\temp\\positive\\rawdata\\frame_46.bmp\n",
      "Converted and saved: C:\\Users\\zain\\Downloads\\AI_Najeed\\haar-Feb_2019\\temp\\positive\\rawdata\\frame_47.bmp\n",
      "Converted and saved: C:\\Users\\zain\\Downloads\\AI_Najeed\\haar-Feb_2019\\temp\\positive\\rawdata\\frame_48.bmp\n",
      "Converted and saved: C:\\Users\\zain\\Downloads\\AI_Najeed\\haar-Feb_2019\\temp\\positive\\rawdata\\frame_49.bmp\n",
      "Converted and saved: C:\\Users\\zain\\Downloads\\AI_Najeed\\haar-Feb_2019\\temp\\positive\\rawdata\\frame_5.bmp\n",
      "Converted and saved: C:\\Users\\zain\\Downloads\\AI_Najeed\\haar-Feb_2019\\temp\\positive\\rawdata\\frame_50.bmp\n",
      "Converted and saved: C:\\Users\\zain\\Downloads\\AI_Najeed\\haar-Feb_2019\\temp\\positive\\rawdata\\frame_51.bmp\n",
      "Converted and saved: C:\\Users\\zain\\Downloads\\AI_Najeed\\haar-Feb_2019\\temp\\positive\\rawdata\\frame_52.bmp\n",
      "Converted and saved: C:\\Users\\zain\\Downloads\\AI_Najeed\\haar-Feb_2019\\temp\\positive\\rawdata\\frame_53.bmp\n",
      "Converted and saved: C:\\Users\\zain\\Downloads\\AI_Najeed\\haar-Feb_2019\\temp\\positive\\rawdata\\frame_54.bmp\n",
      "Converted and saved: C:\\Users\\zain\\Downloads\\AI_Najeed\\haar-Feb_2019\\temp\\positive\\rawdata\\frame_55.bmp\n",
      "Converted and saved: C:\\Users\\zain\\Downloads\\AI_Najeed\\haar-Feb_2019\\temp\\positive\\rawdata\\frame_56.bmp\n",
      "Converted and saved: C:\\Users\\zain\\Downloads\\AI_Najeed\\haar-Feb_2019\\temp\\positive\\rawdata\\frame_57.bmp\n",
      "Converted and saved: C:\\Users\\zain\\Downloads\\AI_Najeed\\haar-Feb_2019\\temp\\positive\\rawdata\\frame_58.bmp\n",
      "Converted and saved: C:\\Users\\zain\\Downloads\\AI_Najeed\\haar-Feb_2019\\temp\\positive\\rawdata\\frame_59.bmp\n",
      "Converted and saved: C:\\Users\\zain\\Downloads\\AI_Najeed\\haar-Feb_2019\\temp\\positive\\rawdata\\frame_6.bmp\n",
      "Converted and saved: C:\\Users\\zain\\Downloads\\AI_Najeed\\haar-Feb_2019\\temp\\positive\\rawdata\\frame_60.bmp\n",
      "Converted and saved: C:\\Users\\zain\\Downloads\\AI_Najeed\\haar-Feb_2019\\temp\\positive\\rawdata\\frame_61.bmp\n",
      "Converted and saved: C:\\Users\\zain\\Downloads\\AI_Najeed\\haar-Feb_2019\\temp\\positive\\rawdata\\frame_62.bmp\n",
      "Converted and saved: C:\\Users\\zain\\Downloads\\AI_Najeed\\haar-Feb_2019\\temp\\positive\\rawdata\\frame_63.bmp\n",
      "Converted and saved: C:\\Users\\zain\\Downloads\\AI_Najeed\\haar-Feb_2019\\temp\\positive\\rawdata\\frame_64.bmp\n",
      "Converted and saved: C:\\Users\\zain\\Downloads\\AI_Najeed\\haar-Feb_2019\\temp\\positive\\rawdata\\frame_65.bmp\n",
      "Converted and saved: C:\\Users\\zain\\Downloads\\AI_Najeed\\haar-Feb_2019\\temp\\positive\\rawdata\\frame_66.bmp\n",
      "Converted and saved: C:\\Users\\zain\\Downloads\\AI_Najeed\\haar-Feb_2019\\temp\\positive\\rawdata\\frame_67.bmp\n",
      "Converted and saved: C:\\Users\\zain\\Downloads\\AI_Najeed\\haar-Feb_2019\\temp\\positive\\rawdata\\frame_68.bmp\n",
      "Converted and saved: C:\\Users\\zain\\Downloads\\AI_Najeed\\haar-Feb_2019\\temp\\positive\\rawdata\\frame_69.bmp\n",
      "Converted and saved: C:\\Users\\zain\\Downloads\\AI_Najeed\\haar-Feb_2019\\temp\\positive\\rawdata\\frame_7.bmp\n",
      "Converted and saved: C:\\Users\\zain\\Downloads\\AI_Najeed\\haar-Feb_2019\\temp\\positive\\rawdata\\frame_70.bmp\n",
      "Converted and saved: C:\\Users\\zain\\Downloads\\AI_Najeed\\haar-Feb_2019\\temp\\positive\\rawdata\\frame_8.bmp\n",
      "Converted and saved: C:\\Users\\zain\\Downloads\\AI_Najeed\\haar-Feb_2019\\temp\\positive\\rawdata\\frame_9.bmp\n"
     ]
    }
   ],
   "source": [
    "'''\n",
    "def convert_to_bmp(source_folder, destination_folder):\n",
    "    if not os.path.exists(destination_folder):\n",
    "        os.makedirs(destination_folder)\n",
    "\n",
    "    for filename in os.listdir(source_folder):\n",
    "        if filename.endswith(\".jpg\") or filename.endswith(\".png\") or filename.endswith(\".jpeg\"):\n",
    "            img_path = os.path.join(source_folder, filename)\n",
    "            \n",
    "            # Read the image\n",
    "            img = cv2.imread(img_path)\n",
    "            \n",
    "            # Remove the extension from the filename\n",
    "            file_root = os.path.splitext(filename)[0]\n",
    "            \n",
    "            # Save image as BMP in the destination folder\n",
    "            bmp_path = os.path.join(destination_folder, f\"{file_root}.bmp\")\n",
    "            cv2.imwrite(bmp_path, img)\n",
    "            print(f\"Converted and saved: {bmp_path}\")\n",
    "\n",
    "source_folder =  r'C:\\Users\\zain\\Downloads\\AI_Najeed\\haar-Feb_2019\\resize_images_70'\n",
    "destination_folder = r\"C:\\Users\\zain\\Downloads\\AI_Najeed\\haar-Feb_2019\\temp\\positive\\rawdata\"\n",
    "convert_to_bmp(source_folder, destination_folder)\n",
    "\n",
    "'''"
   ]
  },
  {
   "cell_type": "markdown",
   "id": "06f50a72-c52a-4946-ad76-a7a372a89be9",
   "metadata": {},
   "source": [
    "#### step 4: Read the data from info.txt file"
   ]
  },
  {
   "cell_type": "code",
   "execution_count": 2,
   "id": "4542e2cc-2cf6-4da2-b86f-40e276ab5cca",
   "metadata": {},
   "outputs": [
    {
     "name": "stdout",
     "output_type": "stream",
     "text": [
      "              Frame_name  x_cordinate  y_cordinate  Width  Height\n",
      "0    rawdata/frame_1.bmp          150          169     88      53\n",
      "1   rawdata/frame_10.bmp          171           21     64      28\n",
      "2   rawdata/frame_11.bmp           64          130     18      34\n",
      "3   rawdata/frame_12.bmp          133          212     16      44\n",
      "4   rawdata/frame_13.bmp           60          115     17      34\n",
      "5   rawdata/frame_14.bmp          234           11     68      29\n",
      "6   rawdata/frame_15.bmp          212           22     68      30\n",
      "7   rawdata/frame_16.bmp          104           24     56      26\n",
      "8   rawdata/frame_17.bmp          127          202     17      40\n",
      "9   rawdata/frame_18.bmp           84           23     67      28\n",
      "10  rawdata/frame_19.bmp          216            8     67      27\n",
      "11   rawdata/frame_2.bmp          268           77     15      32\n",
      "12  rawdata/frame_20.bmp          236           23     70      30\n",
      "13  rawdata/frame_21.bmp          181           25     60      26\n",
      "14  rawdata/frame_22.bmp          158          220     16      43\n",
      "15  rawdata/frame_23.bmp          219           71     58      44\n",
      "16  rawdata/frame_24.bmp          204           24     58      29\n",
      "17  rawdata/frame_25.bmp           48           34     68      28\n",
      "18  rawdata/frame_26.bmp          128          137     82      48\n",
      "19  rawdata/frame_27.bmp          177           51     68      43\n",
      "20  rawdata/frame_28.bmp           87            8     61      29\n",
      "21  rawdata/frame_29.bmp          266           96     79      48\n",
      "22   rawdata/frame_3.bmp          146          108     20      34\n",
      "23  rawdata/frame_30.bmp          350            1     15      23\n",
      "24  rawdata/frame_31.bmp          348            1     14      23\n",
      "25  rawdata/frame_32.bmp          346            0     18      24\n",
      "26  rawdata/frame_33.bmp          358           70     12      33\n",
      "27  rawdata/frame_34.bmp          359           63     11      34\n",
      "28  rawdata/frame_35.bmp          226           11     65      30\n",
      "29  rawdata/frame_36.bmp           35          129     20      33\n",
      "30  rawdata/frame_37.bmp           58          122     17      37\n",
      "31  rawdata/frame_38.bmp          352            5     12      30\n",
      "32  rawdata/frame_39.bmp           93          112     17      34\n",
      "33   rawdata/frame_4.bmp          229           84     21      32\n",
      "34  rawdata/frame_40.bmp          248          171     83      49\n",
      "35  rawdata/frame_41.bmp          250            0     36      30\n",
      "36  rawdata/frame_42.bmp          125           97     19      34\n",
      "37  rawdata/frame_43.bmp          167          141     75      47\n",
      "38  rawdata/frame_44.bmp          248           14     34      33\n",
      "39  rawdata/frame_45.bmp          354           34     14      34\n",
      "40  rawdata/frame_46.bmp           20           64     63      31\n",
      "41  rawdata/frame_47.bmp          162          141     76      45\n",
      "42  rawdata/frame_48.bmp          165          140     70      46\n",
      "43  rawdata/frame_49.bmp          319           48     17      41\n",
      "44   rawdata/frame_5.bmp          114           92     14      33\n",
      "45  rawdata/frame_50.bmp          164          142     73      43\n",
      "46  rawdata/frame_51.bmp          162           90     18      34\n",
      "47  rawdata/frame_52.bmp          301           67     18      30\n",
      "48  rawdata/frame_53.bmp          169           88     16      34\n",
      "49  rawdata/frame_54.bmp          162          142     77      43\n",
      "50  rawdata/frame_55.bmp          169           82     20      35\n",
      "51  rawdata/frame_56.bmp          303           69     17      35\n",
      "52  rawdata/frame_57.bmp          105          123     73      42\n",
      "53  rawdata/frame_58.bmp          299           71     19      33\n",
      "54  rawdata/frame_59.bmp          203          228     30      49\n",
      "55   rawdata/frame_6.bmp           57          122     25      38\n",
      "56  rawdata/frame_60.bmp          299           69     21      33\n",
      "57   rawdata/frame_7.bmp          172           89     21      38\n",
      "58   rawdata/frame_8.bmp           32          175     28      40\n",
      "59   rawdata/frame_9.bmp          163            9     60      29\n"
     ]
    }
   ],
   "source": [
    "file_path = r'C:\\Users\\zain\\Downloads\\AI_Najeed\\haar-Feb_2019\\temp\\positive\\info_70_kmeans.txt'\n",
    "#file_path = r'C:\\Users\\zain\\Desktop\\k_meansFile2\\new_kmeans3_info.txt'\n",
    "data = pd.read_csv(file_path,header=None, delimiter=' ')  # Change delimiter if needed (e.g., ',', ' ')\n",
    "\n",
    "data.columns = ['Frame_name', 'total_image', 'x_cordinate', 'y_cordinate', 'Width', 'Height']\n",
    "df = pd.DataFrame(data)\n",
    "\n",
    "# Display the DataFrame\n",
    "#print(df)\n",
    "\n",
    "df = df.drop(columns='total_image')\n",
    "print(df)"
   ]
  },
  {
   "cell_type": "markdown",
   "id": "77fe4568-2100-472b-b040-47e0004c76eb",
   "metadata": {},
   "source": [
    "#### step 5: Apply preprocessing---> remove/drop Frame_name ,x,y features"
   ]
  },
  {
   "cell_type": "code",
   "execution_count": 3,
   "id": "19359f50-2c7a-4e8b-8667-f426722b327e",
   "metadata": {},
   "outputs": [
    {
     "name": "stdout",
     "output_type": "stream",
     "text": [
      "\n",
      "DataFrame after dropping specific columns by name:\n",
      "    Width  Height\n",
      "0      88      53\n",
      "1      64      28\n",
      "2      18      34\n",
      "3      16      44\n",
      "4      17      34\n",
      "5      68      29\n",
      "6      68      30\n",
      "7      56      26\n",
      "8      17      40\n",
      "9      67      28\n",
      "10     67      27\n",
      "11     15      32\n",
      "12     70      30\n",
      "13     60      26\n",
      "14     16      43\n",
      "15     58      44\n",
      "16     58      29\n",
      "17     68      28\n",
      "18     82      48\n",
      "19     68      43\n",
      "20     61      29\n",
      "21     79      48\n",
      "22     20      34\n",
      "23     15      23\n",
      "24     14      23\n",
      "25     18      24\n",
      "26     12      33\n",
      "27     11      34\n",
      "28     65      30\n",
      "29     20      33\n",
      "30     17      37\n",
      "31     12      30\n",
      "32     17      34\n",
      "33     21      32\n",
      "34     83      49\n",
      "35     36      30\n",
      "36     19      34\n",
      "37     75      47\n",
      "38     34      33\n",
      "39     14      34\n",
      "40     63      31\n",
      "41     76      45\n",
      "42     70      46\n",
      "43     17      41\n",
      "44     14      33\n",
      "45     73      43\n",
      "46     18      34\n",
      "47     18      30\n",
      "48     16      34\n",
      "49     77      43\n",
      "50     20      35\n",
      "51     17      35\n",
      "52     73      42\n",
      "53     19      33\n",
      "54     30      49\n",
      "55     25      38\n",
      "56     21      33\n",
      "57     21      38\n",
      "58     28      40\n",
      "59     60      29\n"
     ]
    }
   ],
   "source": [
    "columns_to_drop = ['Frame_name','x_cordinate', 'y_cordinate']\n",
    "df_dropped_by_name = df.drop(columns=columns_to_drop)\n",
    "\n",
    "# Display the DataFrame after dropping columns by name\n",
    "print(\"\\nDataFrame after dropping specific columns by name:\")\n",
    "print(df_dropped_by_name)"
   ]
  },
  {
   "cell_type": "markdown",
   "id": "a3c9b648-70a9-4b22-bd13-f14779eafea4",
   "metadata": {},
   "source": [
    "#### step 6: Calculate area then Apply K-means Clustering on Area"
   ]
  },
  {
   "cell_type": "code",
   "execution_count": 4,
   "id": "452563f7-0299-41fd-9b3b-69213cfc066e",
   "metadata": {},
   "outputs": [
    {
     "name": "stdout",
     "output_type": "stream",
     "text": [
      "\n",
      "DataFrame with K-Means Clustering on Area:\n",
      "    Width  Height      Area  Area_Cluster\n",
      "0      88      53  1.660377             1\n",
      "1      64      28  2.285714             1\n",
      "2      18      34  0.529412             0\n",
      "3      16      44  0.363636             0\n",
      "4      17      34  0.500000             0\n",
      "5      68      29  2.344828             1\n",
      "6      68      30  2.266667             1\n",
      "7      56      26  2.153846             1\n",
      "8      17      40  0.425000             0\n",
      "9      67      28  2.392857             1\n",
      "10     67      27  2.481481             1\n",
      "11     15      32  0.468750             0\n",
      "12     70      30  2.333333             1\n",
      "13     60      26  2.307692             1\n",
      "14     16      43  0.372093             0\n",
      "15     58      44  1.318182             1\n",
      "16     58      29  2.000000             1\n",
      "17     68      28  2.428571             1\n",
      "18     82      48  1.708333             1\n",
      "19     68      43  1.581395             1\n",
      "20     61      29  2.103448             1\n",
      "21     79      48  1.645833             1\n",
      "22     20      34  0.588235             0\n",
      "23     15      23  0.652174             0\n",
      "24     14      23  0.608696             0\n",
      "25     18      24  0.750000             0\n",
      "26     12      33  0.363636             0\n",
      "27     11      34  0.323529             0\n",
      "28     65      30  2.166667             1\n",
      "29     20      33  0.606061             0\n",
      "30     17      37  0.459459             0\n",
      "31     12      30  0.400000             0\n",
      "32     17      34  0.500000             0\n",
      "33     21      32  0.656250             0\n",
      "34     83      49  1.693878             1\n",
      "35     36      30  1.200000             0\n",
      "36     19      34  0.558824             0\n",
      "37     75      47  1.595745             1\n",
      "38     34      33  1.030303             0\n",
      "39     14      34  0.411765             0\n",
      "40     63      31  2.032258             1\n",
      "41     76      45  1.688889             1\n",
      "42     70      46  1.521739             1\n",
      "43     17      41  0.414634             0\n",
      "44     14      33  0.424242             0\n",
      "45     73      43  1.697674             1\n",
      "46     18      34  0.529412             0\n",
      "47     18      30  0.600000             0\n",
      "48     16      34  0.470588             0\n",
      "49     77      43  1.790698             1\n",
      "50     20      35  0.571429             0\n",
      "51     17      35  0.485714             0\n",
      "52     73      42  1.738095             1\n",
      "53     19      33  0.575758             0\n",
      "54     30      49  0.612245             0\n",
      "55     25      38  0.657895             0\n",
      "56     21      33  0.636364             0\n",
      "57     21      38  0.552632             0\n",
      "58     28      40  0.700000             0\n",
      "59     60      29  2.068966             1\n"
     ]
    }
   ],
   "source": [
    "from sklearn.cluster import KMeans\n",
    "from sklearn.preprocessing import StandardScaler\n",
    "import matplotlib.pyplot as plt\n",
    "\n",
    "# Calculate Area\n",
    "df_dropped_by_name['Area'] = df_dropped_by_name['Width'] / df_dropped_by_name['Height']\n",
    "\n",
    "# Apply K-Means Clustering on  Area\n",
    "kmeans_area = KMeans(n_clusters=2, random_state=42)\n",
    "df_dropped_by_name['Area_Cluster'] = kmeans_area.fit_predict(df_dropped_by_name[['Area']])\n",
    "\n",
    "# Display the DataFrame with area and cluster assignments\n",
    "print(\"\\nDataFrame with K-Means Clustering on Area:\")\n",
    "print(df_dropped_by_name[['Width', 'Height', 'Area', 'Area_Cluster']])"
   ]
  },
  {
   "cell_type": "markdown",
   "id": "12331f4e-cfc5-4d9c-9753-bb3a1c6b6413",
   "metadata": {},
   "source": [
    "#### step 7: Combine all the features with area and area cluster"
   ]
  },
  {
   "cell_type": "code",
   "execution_count": 5,
   "id": "6dd155e8-ff48-4aa4-b317-cfaedf28993e",
   "metadata": {},
   "outputs": [
    {
     "name": "stdout",
     "output_type": "stream",
     "text": [
      "Combined DataFrame using concat:\n",
      "              Frame_name  x_cordinate  y_cordinate  Width  Height      Area  \\\n",
      "0    rawdata/frame_1.bmp          150          169     88      53  1.660377   \n",
      "1   rawdata/frame_10.bmp          171           21     64      28  2.285714   \n",
      "2   rawdata/frame_11.bmp           64          130     18      34  0.529412   \n",
      "3   rawdata/frame_12.bmp          133          212     16      44  0.363636   \n",
      "4   rawdata/frame_13.bmp           60          115     17      34  0.500000   \n",
      "5   rawdata/frame_14.bmp          234           11     68      29  2.344828   \n",
      "6   rawdata/frame_15.bmp          212           22     68      30  2.266667   \n",
      "7   rawdata/frame_16.bmp          104           24     56      26  2.153846   \n",
      "8   rawdata/frame_17.bmp          127          202     17      40  0.425000   \n",
      "9   rawdata/frame_18.bmp           84           23     67      28  2.392857   \n",
      "10  rawdata/frame_19.bmp          216            8     67      27  2.481481   \n",
      "11   rawdata/frame_2.bmp          268           77     15      32  0.468750   \n",
      "12  rawdata/frame_20.bmp          236           23     70      30  2.333333   \n",
      "13  rawdata/frame_21.bmp          181           25     60      26  2.307692   \n",
      "14  rawdata/frame_22.bmp          158          220     16      43  0.372093   \n",
      "15  rawdata/frame_23.bmp          219           71     58      44  1.318182   \n",
      "16  rawdata/frame_24.bmp          204           24     58      29  2.000000   \n",
      "17  rawdata/frame_25.bmp           48           34     68      28  2.428571   \n",
      "18  rawdata/frame_26.bmp          128          137     82      48  1.708333   \n",
      "19  rawdata/frame_27.bmp          177           51     68      43  1.581395   \n",
      "20  rawdata/frame_28.bmp           87            8     61      29  2.103448   \n",
      "21  rawdata/frame_29.bmp          266           96     79      48  1.645833   \n",
      "22   rawdata/frame_3.bmp          146          108     20      34  0.588235   \n",
      "23  rawdata/frame_30.bmp          350            1     15      23  0.652174   \n",
      "24  rawdata/frame_31.bmp          348            1     14      23  0.608696   \n",
      "25  rawdata/frame_32.bmp          346            0     18      24  0.750000   \n",
      "26  rawdata/frame_33.bmp          358           70     12      33  0.363636   \n",
      "27  rawdata/frame_34.bmp          359           63     11      34  0.323529   \n",
      "28  rawdata/frame_35.bmp          226           11     65      30  2.166667   \n",
      "29  rawdata/frame_36.bmp           35          129     20      33  0.606061   \n",
      "30  rawdata/frame_37.bmp           58          122     17      37  0.459459   \n",
      "31  rawdata/frame_38.bmp          352            5     12      30  0.400000   \n",
      "32  rawdata/frame_39.bmp           93          112     17      34  0.500000   \n",
      "33   rawdata/frame_4.bmp          229           84     21      32  0.656250   \n",
      "34  rawdata/frame_40.bmp          248          171     83      49  1.693878   \n",
      "35  rawdata/frame_41.bmp          250            0     36      30  1.200000   \n",
      "36  rawdata/frame_42.bmp          125           97     19      34  0.558824   \n",
      "37  rawdata/frame_43.bmp          167          141     75      47  1.595745   \n",
      "38  rawdata/frame_44.bmp          248           14     34      33  1.030303   \n",
      "39  rawdata/frame_45.bmp          354           34     14      34  0.411765   \n",
      "40  rawdata/frame_46.bmp           20           64     63      31  2.032258   \n",
      "41  rawdata/frame_47.bmp          162          141     76      45  1.688889   \n",
      "42  rawdata/frame_48.bmp          165          140     70      46  1.521739   \n",
      "43  rawdata/frame_49.bmp          319           48     17      41  0.414634   \n",
      "44   rawdata/frame_5.bmp          114           92     14      33  0.424242   \n",
      "45  rawdata/frame_50.bmp          164          142     73      43  1.697674   \n",
      "46  rawdata/frame_51.bmp          162           90     18      34  0.529412   \n",
      "47  rawdata/frame_52.bmp          301           67     18      30  0.600000   \n",
      "48  rawdata/frame_53.bmp          169           88     16      34  0.470588   \n",
      "49  rawdata/frame_54.bmp          162          142     77      43  1.790698   \n",
      "50  rawdata/frame_55.bmp          169           82     20      35  0.571429   \n",
      "51  rawdata/frame_56.bmp          303           69     17      35  0.485714   \n",
      "52  rawdata/frame_57.bmp          105          123     73      42  1.738095   \n",
      "53  rawdata/frame_58.bmp          299           71     19      33  0.575758   \n",
      "54  rawdata/frame_59.bmp          203          228     30      49  0.612245   \n",
      "55   rawdata/frame_6.bmp           57          122     25      38  0.657895   \n",
      "56  rawdata/frame_60.bmp          299           69     21      33  0.636364   \n",
      "57   rawdata/frame_7.bmp          172           89     21      38  0.552632   \n",
      "58   rawdata/frame_8.bmp           32          175     28      40  0.700000   \n",
      "59   rawdata/frame_9.bmp          163            9     60      29  2.068966   \n",
      "\n",
      "    Area_Cluster  \n",
      "0              1  \n",
      "1              1  \n",
      "2              0  \n",
      "3              0  \n",
      "4              0  \n",
      "5              1  \n",
      "6              1  \n",
      "7              1  \n",
      "8              0  \n",
      "9              1  \n",
      "10             1  \n",
      "11             0  \n",
      "12             1  \n",
      "13             1  \n",
      "14             0  \n",
      "15             1  \n",
      "16             1  \n",
      "17             1  \n",
      "18             1  \n",
      "19             1  \n",
      "20             1  \n",
      "21             1  \n",
      "22             0  \n",
      "23             0  \n",
      "24             0  \n",
      "25             0  \n",
      "26             0  \n",
      "27             0  \n",
      "28             1  \n",
      "29             0  \n",
      "30             0  \n",
      "31             0  \n",
      "32             0  \n",
      "33             0  \n",
      "34             1  \n",
      "35             0  \n",
      "36             0  \n",
      "37             1  \n",
      "38             0  \n",
      "39             0  \n",
      "40             1  \n",
      "41             1  \n",
      "42             1  \n",
      "43             0  \n",
      "44             0  \n",
      "45             1  \n",
      "46             0  \n",
      "47             0  \n",
      "48             0  \n",
      "49             1  \n",
      "50             0  \n",
      "51             0  \n",
      "52             1  \n",
      "53             0  \n",
      "54             0  \n",
      "55             0  \n",
      "56             0  \n",
      "57             0  \n",
      "58             0  \n",
      "59             1  \n"
     ]
    }
   ],
   "source": [
    "# Combine DataFrames horizontally\n",
    "df_combined = pd.concat([df, df_dropped_by_name[['Area','Area_Cluster']] ], axis=1)\n",
    "\n",
    "# Display the combined DataFrame\n",
    "print(\"Combined DataFrame using concat:\")\n",
    "print(df_combined)"
   ]
  },
  {
   "cell_type": "markdown",
   "id": "2646240e-45a8-4651-b02e-555a8f2a3bf7",
   "metadata": {},
   "source": [
    "#### step 8: Seperate dataframe on the basis of cluster(0 & 1)"
   ]
  },
  {
   "cell_type": "code",
   "execution_count": 6,
   "id": "04ebe787-73d0-4c34-bb0b-622b3a09af8b",
   "metadata": {},
   "outputs": [
    {
     "name": "stdout",
     "output_type": "stream",
     "text": [
      "DataFrame for Cluster = 0:\n",
      "              Frame_name  x_cordinate  y_cordinate  Width  Height\n",
      "2   rawdata/frame_11.bmp           64          130     18      34\n",
      "3   rawdata/frame_12.bmp          133          212     16      44\n",
      "4   rawdata/frame_13.bmp           60          115     17      34\n",
      "8   rawdata/frame_17.bmp          127          202     17      40\n",
      "11   rawdata/frame_2.bmp          268           77     15      32\n",
      "14  rawdata/frame_22.bmp          158          220     16      43\n",
      "22   rawdata/frame_3.bmp          146          108     20      34\n",
      "23  rawdata/frame_30.bmp          350            1     15      23\n",
      "24  rawdata/frame_31.bmp          348            1     14      23\n",
      "25  rawdata/frame_32.bmp          346            0     18      24\n",
      "26  rawdata/frame_33.bmp          358           70     12      33\n",
      "27  rawdata/frame_34.bmp          359           63     11      34\n",
      "29  rawdata/frame_36.bmp           35          129     20      33\n",
      "30  rawdata/frame_37.bmp           58          122     17      37\n",
      "31  rawdata/frame_38.bmp          352            5     12      30\n",
      "32  rawdata/frame_39.bmp           93          112     17      34\n",
      "33   rawdata/frame_4.bmp          229           84     21      32\n",
      "35  rawdata/frame_41.bmp          250            0     36      30\n",
      "36  rawdata/frame_42.bmp          125           97     19      34\n",
      "38  rawdata/frame_44.bmp          248           14     34      33\n",
      "39  rawdata/frame_45.bmp          354           34     14      34\n",
      "43  rawdata/frame_49.bmp          319           48     17      41\n",
      "44   rawdata/frame_5.bmp          114           92     14      33\n",
      "46  rawdata/frame_51.bmp          162           90     18      34\n",
      "47  rawdata/frame_52.bmp          301           67     18      30\n",
      "48  rawdata/frame_53.bmp          169           88     16      34\n",
      "50  rawdata/frame_55.bmp          169           82     20      35\n",
      "51  rawdata/frame_56.bmp          303           69     17      35\n",
      "53  rawdata/frame_58.bmp          299           71     19      33\n",
      "54  rawdata/frame_59.bmp          203          228     30      49\n",
      "55   rawdata/frame_6.bmp           57          122     25      38\n",
      "56  rawdata/frame_60.bmp          299           69     21      33\n",
      "57   rawdata/frame_7.bmp          172           89     21      38\n",
      "58   rawdata/frame_8.bmp           32          175     28      40\n",
      "\n",
      "DataFrame for Cluster = 1:\n",
      "              Frame_name  x_cordinate  y_cordinate  Width  Height\n",
      "0    rawdata/frame_1.bmp          150          169     88      53\n",
      "1   rawdata/frame_10.bmp          171           21     64      28\n",
      "5   rawdata/frame_14.bmp          234           11     68      29\n",
      "6   rawdata/frame_15.bmp          212           22     68      30\n",
      "7   rawdata/frame_16.bmp          104           24     56      26\n",
      "9   rawdata/frame_18.bmp           84           23     67      28\n",
      "10  rawdata/frame_19.bmp          216            8     67      27\n",
      "12  rawdata/frame_20.bmp          236           23     70      30\n",
      "13  rawdata/frame_21.bmp          181           25     60      26\n",
      "15  rawdata/frame_23.bmp          219           71     58      44\n",
      "16  rawdata/frame_24.bmp          204           24     58      29\n",
      "17  rawdata/frame_25.bmp           48           34     68      28\n",
      "18  rawdata/frame_26.bmp          128          137     82      48\n",
      "19  rawdata/frame_27.bmp          177           51     68      43\n",
      "20  rawdata/frame_28.bmp           87            8     61      29\n",
      "21  rawdata/frame_29.bmp          266           96     79      48\n",
      "28  rawdata/frame_35.bmp          226           11     65      30\n",
      "34  rawdata/frame_40.bmp          248          171     83      49\n",
      "37  rawdata/frame_43.bmp          167          141     75      47\n",
      "40  rawdata/frame_46.bmp           20           64     63      31\n",
      "41  rawdata/frame_47.bmp          162          141     76      45\n",
      "42  rawdata/frame_48.bmp          165          140     70      46\n",
      "45  rawdata/frame_50.bmp          164          142     73      43\n",
      "49  rawdata/frame_54.bmp          162          142     77      43\n",
      "52  rawdata/frame_57.bmp          105          123     73      42\n",
      "59   rawdata/frame_9.bmp          163            9     60      29\n"
     ]
    }
   ],
   "source": [
    "# Separate into two DataFrames based on Area_Cluster\n",
    "df_cluster_0 = df[df_combined['Area_Cluster'] == 0]\n",
    "df_cluster_1 = df[df_combined['Area_Cluster'] == 1]\n",
    "\n",
    "# Display the separate DataFrames\n",
    "print(\"DataFrame for Cluster = 0:\")\n",
    "print(df_cluster_0)\n",
    "\n",
    "print(\"\\nDataFrame for Cluster = 1:\")\n",
    "print(df_cluster_1)"
   ]
  },
  {
   "cell_type": "markdown",
   "id": "462877c6-52f6-44a8-9445-83392d7a1852",
   "metadata": {},
   "source": [
    "#### step 9 : Draw rectangle(green ,red) on the basis of cluster and coordinates(x,y,w,h)"
   ]
  },
  {
   "cell_type": "markdown",
   "id": "92deec9b-fbbe-410c-af89-bf3219d42a97",
   "metadata": {},
   "source": [
    "### correct method: draw rectangles on given frames, display one by one"
   ]
  },
  {
   "cell_type": "code",
   "execution_count": 7,
   "id": "b1ec52d3-e00f-4d3c-998e-f6c91e94bc77",
   "metadata": {},
   "outputs": [],
   "source": [
    "df_cluster_0 = df[df_combined['Area_Cluster'] == 0]\n",
    "df_cluster_1 = df[df_combined['Area_Cluster'] == 1]\n",
    "\n",
    "# Folder where your frames are stored\n",
    "frame_folder = r'C:\\Users\\zain\\Downloads\\AI_Najeed\\haar-Feb_2019\\temp\\positive'\n",
    "\n",
    "# Function to process frames\n",
    "def process_frame(frame_name, x, y, width, height, color):\n",
    "    # Load the image\n",
    "    frame_path = os.path.join(frame_folder, frame_name)\n",
    "    frame = cv2.imread(frame_path)\n",
    "   # print(os.path.abspath(frame_path)) \n",
    "    # Check if the frame was loaded successfully\n",
    "    if frame is None:\n",
    "        print(f\"Error: Could not load image {frame_name}\")\n",
    "        return\n",
    "    # Draw the rectangle: (x, y) is the top-left corner, and (x + width, y + height) is the bottom-right corner\n",
    "    cv2.rectangle(frame, (x, y), (x + width, y + height), color, 2)\n",
    "\n",
    "    # Display the frame\n",
    "    cv2.imshow(f'Frame: {frame_name}', frame)\n",
    "\n",
    "# Process frames in Cluster 0 (Red rectangles)\n",
    "for index, row in df_cluster_0.iterrows():\n",
    "    frame_name = row['Frame_name']\n",
    "    x_cordinate = row['x_cordinate']\n",
    "    y_cordinate = row['y_cordinate']\n",
    "    width = row['Width']\n",
    "    height = row['Height']\n",
    "    \n",
    "    # Draw a red rectangle for cluster 0\n",
    "    process_frame(frame_name, x_cordinate, y_cordinate, width, height, (0, 0, 255))\n",
    "\n",
    "# Process frames in Cluster 1 (Green rectangles)\n",
    "for index, row in df_cluster_1.iterrows():\n",
    "    frame_name = row['Frame_name']\n",
    "    x_cordinate = row['x_cordinate']\n",
    "    y_cordinate = row['y_cordinate']\n",
    "    width = row['Width']\n",
    "    height = row['Height']\n",
    "    \n",
    "    # Draw a green rectangle for cluster 1\n",
    "    process_frame(frame_name, x_cordinate, y_cordinate, width, height, (0, 255, 0))\n",
    "\n",
    "# Wait for a key press to close the frames\n",
    "cv2.waitKey(0)\n",
    "cv2.destroyAllWindows()"
   ]
  },
  {
   "cell_type": "markdown",
   "id": "dc9fabc9-7127-4820-b9b4-dc83c31bfd77",
   "metadata": {},
   "source": [
    "### second method of correct code: in a single window all frame display after 600 ms"
   ]
  },
  {
   "cell_type": "code",
   "execution_count": 7,
   "id": "5ffbb640-4fe7-4066-91ee-9801c9090fca",
   "metadata": {},
   "outputs": [],
   "source": [
    "# Assuming df_combined is already defined\n",
    "df_cluster_0 = df_combined[df_combined['Area_Cluster'] == 0]\n",
    "df_cluster_1 = df_combined[df_combined['Area_Cluster'] == 1]\n",
    "\n",
    "# Folder where your frames are stored\n",
    "frame_folder = r'C:\\Users\\zain\\Downloads\\AI_Najeed\\haar-Feb_2019\\temp\\positive'\n",
    "\n",
    "# Function to process frames\n",
    "def process_frame(frame_name, x, y, width, height, color):\n",
    "    # Load the image\n",
    "    frame_path = os.path.join(frame_folder, frame_name)\n",
    "    frame = cv2.imread(frame_path)\n",
    "    # print(os.path.abspath(frame_path)) \n",
    "    # Check if the frame was loaded successfully\n",
    "    if frame is None:\n",
    "        print(f\"Error: Could not load image {frame_name}\")\n",
    "        return None\n",
    "    \n",
    "    # Draw the rectangle: (x, y) is the top-left corner, and (x + width, y + height) is the bottom-right corner\n",
    "    cv2.rectangle(frame, (x, y), (x + width, y + height), color, 2)\n",
    "    return frame\n",
    "\n",
    "# Process frames in Cluster 0 (Red rectangles)\n",
    "frames = []\n",
    "for index, row in df_cluster_0.iterrows():\n",
    "    frame_name = row['Frame_name']\n",
    "    x_cordinate = row['x_cordinate']\n",
    "    y_cordinate = row['y_cordinate']\n",
    "    width = row['Width']\n",
    "    height = row['Height']\n",
    "    \n",
    "    # Draw a red rectangle for cluster 0\n",
    "    frame = process_frame(frame_name, x_cordinate, y_cordinate, width, height, (0, 0, 255))\n",
    "    if frame is not None:\n",
    "        frames.append(frame)\n",
    "\n",
    "# Process frames in Cluster 1 (Green rectangles)\n",
    "for index, row in df_cluster_1.iterrows():\n",
    "    frame_name = row['Frame_name']\n",
    "    x_cordinate = row['x_cordinate']\n",
    "    y_cordinate = row['y_cordinate']\n",
    "    width = row['Width']\n",
    "    height = row['Height']\n",
    "    \n",
    "    # Draw a green rectangle for cluster 1\n",
    "    frame = process_frame(frame_name, x_cordinate, y_cordinate, width, height, (0, 255, 0))\n",
    "    if frame is not None:\n",
    "        frames.append(frame)\n",
    "\n",
    "# Display frames one by one in a single window\n",
    "for frame in frames:\n",
    "    cv2.imshow('Processed Frame', frame)\n",
    "    # Wait for 500 ms before displaying the next frame\n",
    "    if cv2.waitKey(600) & 0xFF == ord('q'):\n",
    "        break\n",
    "\n",
    "# Destroy all windows after displaying all frames\n",
    "cv2.destroyAllWindows()"
   ]
  },
  {
   "cell_type": "markdown",
   "id": "16e89f01-a744-4c1f-9a20-8fe6dd7d09e1",
   "metadata": {},
   "source": [
    "## first method: Rectangles draw,   before exact frames(objects) appear in video."
   ]
  },
  {
   "cell_type": "code",
   "execution_count": 24,
   "id": "27ca7f7b-f177-4c04-ac5c-8a8bf9a74741",
   "metadata": {},
   "outputs": [],
   "source": [
    "#draw rectangle before object appear\n",
    "def draw_rectangles(frame, frame_num, df_cluster_0, df_cluster_1):\n",
    "    # Draw red rectangles for Cluster = 0\n",
    "    for _, row in df_cluster_0.iterrows():\n",
    "        top_left = (int(row['x_cordinate']), int(row['y_cordinate']))\n",
    "        bottom_right = (int(row['x_cordinate'] + row['Width']), int(row['y_cordinate'] + row['Height']))\n",
    "        cv2.rectangle(frame, top_left, bottom_right, (0, 0, 255), 2)  # Red color\n",
    "\n",
    "    # Draw green rectangles for Cluster = 1\n",
    "    for _, row in df_cluster_1.iterrows():\n",
    "        top_left = (int(row['x_cordinate']), int(row['y_cordinate']))\n",
    "        bottom_right = (int(row['x_cordinate'] + row['Width']), int(row['y_cordinate'] + row['Height']))\n",
    "        cv2.rectangle(frame, top_left, bottom_right, (0, 255, 0), 2)  # Green color\n",
    "    \n",
    "    return frame\n",
    "\n",
    "def process_video(video_path, df_cluster_0, df_cluster_1):\n",
    "    cap = cv2.VideoCapture(video_path)\n",
    "    frame_num = 0\n",
    "\n",
    "    # Check if video file opened successfully\n",
    "    if not cap.isOpened():\n",
    "        print(\"Error opening video file\")\n",
    "        return\n",
    "\n",
    "    while cap.isOpened():\n",
    "        ret, frame = cap.read()\n",
    "        if not ret:\n",
    "            break  # Break the loop if no frame is returned\n",
    "\n",
    "        frame_num += 1\n",
    "\n",
    "        # Draw rectangles based on the frame number and clusters\n",
    "        frame = draw_rectangles(frame, frame_num, df_cluster_0, df_cluster_1)\n",
    "\n",
    "        # Display the frame\n",
    "        cv2.imshow('Cluster Video Output', frame)\n",
    "\n",
    "        # Press 'q' on the keyboard to exit the video early\n",
    "        if cv2.waitKey(25) & 0xFF == ord('q'):\n",
    "            break\n",
    "\n",
    "    # Release the video capture and close the display window\n",
    "    cap.release()\n",
    "    cv2.destroyAllWindows()\n",
    "\n",
    "# Example DataFrames for df_cluster_0 and df_cluster_1\n",
    "# These should be replaced with your actual data\n",
    "df_cluster_0 =df_cluster_0\n",
    "\n",
    "df_cluster_1 = df_cluster_1\n",
    "\n",
    "# Main program to run the video processing\n",
    "\n",
    "video_path = r'C:\\Users\\zain\\Downloads\\AI_Najeed\\haar-Feb_2019\\videos\\a.mp4'\n",
    "process_video(video_path, df_cluster_0, df_cluster_1)"
   ]
  },
  {
   "cell_type": "markdown",
   "id": "40c28891-d949-4bed-9eae-b99acd3105d1",
   "metadata": {},
   "source": [
    "## Second Method: draw rectangles, starting 60 frame numbers match with video frames.(not exact frame match in video)"
   ]
  },
  {
   "cell_type": "code",
   "execution_count": 7,
   "id": "ad4761c4-1bf5-443c-892d-888bf84f9f29",
   "metadata": {},
   "outputs": [],
   "source": [
    "# draw rectangle by frame number match with video frame\n",
    "\n",
    "def draw_rectangles(frame, frame_num, df_cluster_0, df_cluster_1):\n",
    "    # Draw red rectangles for Cluster = 0\n",
    "    for _, row in df_cluster_0.iterrows():\n",
    "        if f'frame_{frame_num}.bmp' in row['Frame_name']:\n",
    "            top_left = (int(row['x_cordinate']), int(row['y_cordinate']))\n",
    "            bottom_right = (int(row['x_cordinate'] + row['Width']), int(row['y_cordinate'] + row['Height']))\n",
    "            cv2.rectangle(frame, top_left, bottom_right, (0, 0, 255), 2)  # Red color\n",
    "    \n",
    "    # Draw green rectangles for Cluster = 1\n",
    "    for _, row in df_cluster_1.iterrows():\n",
    "        if f'frame_{frame_num}.bmp' in row['Frame_name']:\n",
    "            top_left = (int(row['x_cordinate']), int(row['y_cordinate']))\n",
    "            bottom_right = (int(row['x_cordinate'] + row['Width']), int(row['y_cordinate'] + row['Height']))\n",
    "            cv2.rectangle(frame, top_left, bottom_right, (0, 255, 0), 2)  # Green color\n",
    "    \n",
    "    return frame\n",
    "\n",
    "# Function to process the video\n",
    "def process_video(video_path, df_cluster_0, df_cluster_1):\n",
    "    cap = cv2.VideoCapture(video_path)\n",
    "    frame_num = 0\n",
    "\n",
    "    # Check if video file opened successfully\n",
    "    if not cap.isOpened():\n",
    "        print(\"Error opening video file\")\n",
    "        return\n",
    "\n",
    "    while cap.isOpened():\n",
    "        ret, frame = cap.read()\n",
    "        if not ret:\n",
    "            break  # Break the loop if no frame is returned\n",
    "\n",
    "        frame_num += 1\n",
    "\n",
    "        # Draw rectangles based on the frame number and clusters\n",
    "        frame = draw_rectangles(frame, frame_num, df_cluster_0, df_cluster_1)\n",
    "\n",
    "        # Display the frame\n",
    "        cv2.imshow('Cluster Video Output', frame)\n",
    "\n",
    "        # Press 'q' on the keyboard to exit the video early\n",
    "        if cv2.waitKey(25) & 0xFF == ord('q'):\n",
    "            break\n",
    "\n",
    "    # Release the video capture and close the display window\n",
    "    cap.release()\n",
    "    cv2.destroyAllWindows()\n",
    "\n",
    "# Main program to run the video processing\n",
    "video_path = r'C:\\Users\\zain\\Downloads\\AI_Najeed\\haar-Feb_2019\\videos\\a.mp4'\n",
    "process_video(video_path, df_cluster_0, df_cluster_1)"
   ]
  },
  {
   "cell_type": "markdown",
   "id": "5fbe5221-2591-4279-ae7a-d17a808156c6",
   "metadata": {},
   "source": [
    "##### plot Cluster on x-axis(Width) and y-axis(Height)"
   ]
  },
  {
   "cell_type": "code",
   "execution_count": 25,
   "id": "9a29f92a-ec2a-452e-abf9-a8327889461a",
   "metadata": {},
   "outputs": [
    {
     "data": {
      "image/png": "[encoded data removed]",
      "text/plain": [
       "<Figure size 1000x600 with 2 Axes>"
      ]
     },
     "metadata": {},
     "output_type": "display_data"
    }
   ],
   "source": [
    "import matplotlib.pyplot as plt\n",
    "\n",
    "# Scatter plot for Width and Height colored by Area_Cluster\n",
    "plt.figure(figsize=(10, 6))\n",
    "plt.scatter(df_dropped_by_name['Width'], df_dropped_by_name['Height'], \n",
    "            c=df_dropped_by_name['Area_Cluster'], cmap='viridis', alpha=0.6, edgecolor='k')\n",
    "\n",
    "# Add labels and title\n",
    "plt.xlabel('Width')\n",
    "plt.ylabel('Height')\n",
    "plt.title('K-Means Clustering based on Area_Cluster')\n",
    "plt.colorbar(label='Area Cluster')\n",
    "plt.show()"
   ]
  },
  {
   "cell_type": "code",
   "execution_count": 10,
   "id": "84c92b96-7a77-4606-8f17-6c65e7d3492c",
   "metadata": {},
   "outputs": [
    {
     "data": {
      "image/png": "[encoded data removed]",
      "text/plain": [
       "<Figure size 1000x1000 with 4 Axes>"
      ]
     },
     "metadata": {},
     "output_type": "display_data"
    }
   ],
   "source": [
    "import seaborn as sns\n",
    "fig, axes = plt.subplots(2, 2, figsize=(10, 10))\n",
    "sns.histplot(df_dropped_by_name['Width'],bins=20, alpha=0.7, ax=axes[0, 0])\n",
    "sns.histplot(df_dropped_by_name['Height'],bins=20, alpha=0.7, ax=axes[0, 1])\n",
    "sns.histplot(df_dropped_by_name['Area'],bins=20,  alpha=0.7, ax=axes[1, 0])\n",
    "#sns.histplot(df_dropped_by_name['Scaled_Area'],bins=20,  alpha=0.7, ax=axes[1, 1])\n",
    "sns.histplot(df_dropped_by_name['Area_Cluster'],bins=20, alpha=0.7, ax=axes[1, 1])\n",
    "plt.show()"
   ]
  },
  {
   "cell_type": "code",
   "execution_count": null,
   "id": "88ac0d80-6520-4e91-8734-fbc0ed972674",
   "metadata": {},
   "outputs": [],
   "source": []
  },
  {
   "cell_type": "code",
   "execution_count": null,
   "id": "cbce2a73-2330-412a-a080-d9712952623e",
   "metadata": {},
   "outputs": [],
   "source": []
  },
  {
   "cell_type": "code",
   "execution_count": 24,
   "id": "e0fa351a-0958-4a9e-81a4-8777dc5027ee",
   "metadata": {},
   "outputs": [
    {
     "data": {
      "image/png": "[encoded data removed]",
      "text/plain": [
       "<Figure size 1000x600 with 2 Axes>"
      ]
     },
     "metadata": {},
     "output_type": "display_data"
    },
    {
     "name": "stdout",
     "output_type": "stream",
     "text": [
      "[[18.91176471 34.35294118]\n",
      " [69.11538462 36.57692308]]\n"
     ]
    }
   ],
   "source": [
    "# Assuming df_dropped_by_name is already defined and has columns 'Width', 'Height', and 'Area_Cluster'\n",
    "\n",
    "# Assuming kmeans_area is the KMeans object used to perform clustering\n",
    "kmeans_area = KMeans(n_clusters=2)  # Or the number of clusters you used\n",
    "kmeans_area.fit(df_dropped_by_name[['Width', 'Height']])\n",
    "\n",
    "# Get the centroids\n",
    "centroids = kmeans_area.cluster_centers_\n",
    "\n",
    "# Scatter plot for Width and Height colored by Area_Cluster\n",
    "plt.figure(figsize=(10, 6))\n",
    "scatter = plt.scatter(df_dropped_by_name['Width'], df_dropped_by_name['Height'], \n",
    "                      c=df_dropped_by_name['Area_Cluster'], cmap='viridis', alpha=0.6, edgecolor='k')\n",
    "\n",
    "# Plot centroids\n",
    "plt.scatter(centroids[:, 0], centroids[:, 1], \n",
    "            c='red', edgecolor='k', \n",
    "            marker='X', s=200, label='Centroids')\n",
    "\n",
    "# Add labels and title\n",
    "plt.xlabel('Width')\n",
    "plt.ylabel('Height')\n",
    "plt.title('K-Means Clustering based on Area_Cluster')\n",
    "plt.colorbar(scatter, label='Area Cluster')\n",
    "plt.legend()\n",
    "plt.show()\n",
    "print(centroids)"
   ]
  },
  {
   "cell_type": "code",
   "execution_count": 25,
   "id": "ce56f3f5-51af-4080-8145-810e715f16ee",
   "metadata": {},
   "outputs": [
    {
     "data": {
      "text/plain": [
       "\"\\n# Sample data creation for demonstration (remove this part in actual use)\\n# Replace this with your actual DataFrame\\n# df_dropped_by_name = pd.DataFrame({\\n#     'Width': np.random.rand(100) * 100,\\n#     'Height': np.random.rand(100) * 100\\n# })\\n\\n\\n# Calculate the centroids of the clusters in the original feature space\\ncentroids = kmeans_area.cluster_centers_\\n\\n# To map the centroids back to the original scale for plotting, we need to apply the inverse of the scaling:\\n# First, inverse transform the centroids\\n# The centroids are in the scaled area space, we need to transform them back to the area space\\n\\n# Scale back centroids from Scaled Area to original Area\\ncentroids_original = scaler.inverse_transform(centroids)\\n\\n# Get the average Width and Height for each cluster to represent centroids\\ncentroids_x = []\\ncentroids_y = []\\nfor i in range(2):  # Loop through clusters\\n    cluster_data = df_dropped_by_name[df_dropped_by_name['Area_Cluster'] == i]\\n    centroids_x.append(cluster_data['Width'].mean())  # Average Width for the cluster\\n    centroids_y.append(cluster_data['Height'].mean())  # Average Height for the cluster\\n\\n# Plotting\\n\\nplt.figure(figsize=(10, 6))\\n# Scatter plot for Width and Height colored by Area_Cluster\\nplt.scatter(df_dropped_by_name['Width'], df_dropped_by_name['Height'], \\n            c=df_dropped_by_name['Area_Cluster'], cmap='viridis', alpha=0.6, edgecolor='k', label='Data Points')\\n\\n# Plot centroids in red\\nplt.scatter(centroids_x, centroids_y, c='red', s=200, marker='X', label='Centroids')\\n\\n# Add labels and title\\nplt.xlabel('Width')\\nplt.ylabel('Height')\\nplt.title('K-Means Clustering: Height vs. Width with Centroids')\\nplt.legend()\\nplt.colorbar(label='Area Cluster')\\nplt.show()\\n\""
      ]
     },
     "execution_count": 25,
     "metadata": {},
     "output_type": "execute_result"
    }
   ],
   "source": [
    "'''\n",
    "# Sample data creation for demonstration (remove this part in actual use)\n",
    "# Replace this with your actual DataFrame\n",
    "# df_dropped_by_name = pd.DataFrame({\n",
    "#     'Width': np.random.rand(100) * 100,\n",
    "#     'Height': np.random.rand(100) * 100\n",
    "# })\n",
    "\n",
    "\n",
    "# Calculate the centroids of the clusters in the original feature space\n",
    "centroids = kmeans_area.cluster_centers_\n",
    "\n",
    "# To map the centroids back to the original scale for plotting, we need to apply the inverse of the scaling:\n",
    "# First, inverse transform the centroids\n",
    "# The centroids are in the scaled area space, we need to transform them back to the area space\n",
    "\n",
    "# Scale back centroids from Scaled Area to original Area\n",
    "centroids_original = scaler.inverse_transform(centroids)\n",
    "\n",
    "# Get the average Width and Height for each cluster to represent centroids\n",
    "centroids_x = []\n",
    "centroids_y = []\n",
    "for i in range(2):  # Loop through clusters\n",
    "    cluster_data = df_dropped_by_name[df_dropped_by_name['Area_Cluster'] == i]\n",
    "    centroids_x.append(cluster_data['Width'].mean())  # Average Width for the cluster\n",
    "    centroids_y.append(cluster_data['Height'].mean())  # Average Height for the cluster\n",
    "\n",
    "# Plotting\n",
    "\n",
    "plt.figure(figsize=(10, 6))\n",
    "# Scatter plot for Width and Height colored by Area_Cluster\n",
    "plt.scatter(df_dropped_by_name['Width'], df_dropped_by_name['Height'], \n",
    "            c=df_dropped_by_name['Area_Cluster'], cmap='viridis', alpha=0.6, edgecolor='k', label='Data Points')\n",
    "\n",
    "# Plot centroids in red\n",
    "plt.scatter(centroids_x, centroids_y, c='red', s=200, marker='X', label='Centroids')\n",
    "\n",
    "# Add labels and title\n",
    "plt.xlabel('Width')\n",
    "plt.ylabel('Height')\n",
    "plt.title('K-Means Clustering: Height vs. Width with Centroids')\n",
    "plt.legend()\n",
    "plt.colorbar(label='Area Cluster')\n",
    "plt.show()\n",
    "'''"
   ]
  },
  {
   "cell_type": "markdown",
   "id": "911361d7-9dd6-4ff0-a91a-dbaf1509defb",
   "metadata": {},
   "source": [
    "### correct prediction for one frame (frame 61.bmp)"
   ]
  },
  {
   "cell_type": "code",
   "execution_count": 26,
   "id": "97cfe973-b0b1-46ee-87e4-3605f370cd6c",
   "metadata": {},
   "outputs": [
    {
     "name": "stdout",
     "output_type": "stream",
     "text": [
      "C:\\Users\\zain\\Downloads\\AI_Najeed\\haar-Feb_2019\\temp\\test_data10\\frame_61.bmp\n"
     ]
    },
    {
     "name": "stderr",
     "output_type": "stream",
     "text": [
      "c:\\users\\zain\\my_tensorflow\\lib\\site-packages\\sklearn\\base.py:493: UserWarning: X does not have valid feature names, but KMeans was fitted with feature names\n",
      "  warnings.warn(\n"
     ]
    }
   ],
   "source": [
    "# Assuming kmeans_area is the KMeans object used to perform clustering\n",
    "# If you haven't already created and fitted the KMeans model, you would do it like this:\n",
    "# kmeans_area = KMeans(n_clusters=2)  # Or the number of clusters you used\n",
    "# kmeans_area.fit(df_dropped_by_name[['Width', 'Height']])\n",
    "\n",
    "# Define the function to process and predict the cluster for a new frame\n",
    "def process_and_predict_frame(frame_name, x, y, width, height, kmeans_model, frame_folder):\n",
    "    # Load the image\n",
    "    frame_path = os.path.join(frame_folder, frame_name)\n",
    "    frame = cv2.imread(frame_path)\n",
    "    print(frame_path)\n",
    "    # Check if the frame was loaded successfully\n",
    "    if frame is None:\n",
    "        print(f\"Error: Could not load image {frame_name}\")\n",
    "        return\n",
    "\n",
    "    # Prepare the feature vector for prediction\n",
    "    features = np.array([[width, height]])\n",
    "    \n",
    "    # Predict the cluster\n",
    "    cluster = kmeans_model.predict(features)[0]\n",
    "\n",
    "    # Set the rectangle color based on the predicted cluster\n",
    "    if cluster == 0:\n",
    "        color = (0, 0, 255)  # Red for cluster 0\n",
    "    else:\n",
    "        color = (0, 255, 0)  # Green for cluster 1\n",
    "\n",
    "    # Draw the rectangle\n",
    "    cv2.rectangle(frame, (x, y), (x + width, y + height), color, 2)\n",
    "\n",
    "    # Display the frame\n",
    "    cv2.imshow(f'Frame: {frame_name}', frame)\n",
    "    cv2.waitKey(0)\n",
    "    cv2.destroyAllWindows()\n",
    "\n",
    "# Example usage\n",
    "frame_folder = r'C:\\Users\\zain\\Downloads\\AI_Najeed\\haar-Feb_2019\\temp\\test_data10'\n",
    "frame_name = 'frame_61.bmp'  # Replace with your frame name\n",
    "x_cordinate = 159  # Replace with your x-coordinate\n",
    "y_cordinate = 211  # Replace with your y-coordinate\n",
    "width = 24  # Replace with your width\n",
    "height = 47  # Replace with your height\n",
    "\n",
    "# Call the function with the new frame's features\n",
    "process_and_predict_frame(frame_name, x_cordinate, y_cordinate, width, height, kmeans_area, frame_folder)\n"
   ]
  },
  {
   "cell_type": "code",
   "execution_count": null,
   "id": "375fe4e4-b843-4075-8c31-df50078eefff",
   "metadata": {},
   "outputs": [],
   "source": []
  },
  {
   "cell_type": "markdown",
   "id": "db31ead6-2fe9-47c2-8ddc-89e2a6deb57e",
   "metadata": {},
   "source": [
    "### correct prediction of 9 frames in a single window "
   ]
  },
  {
   "cell_type": "code",
   "execution_count": 16,
   "id": "cfd59037-535b-4a15-b1c3-b9a07291318a",
   "metadata": {},
   "outputs": [
    {
     "name": "stdout",
     "output_type": "stream",
     "text": [
      "C:\\Users\\zain\\Downloads\\AI_Najeed\\haar-Feb_2019\\temp\\test_data10\\frame_61.bmp\n"
     ]
    },
    {
     "name": "stderr",
     "output_type": "stream",
     "text": [
      "c:\\users\\zain\\my_tensorflow\\lib\\site-packages\\sklearn\\base.py:493: UserWarning: X does not have valid feature names, but KMeans was fitted with feature names\n",
      "  warnings.warn(\n"
     ]
    },
    {
     "name": "stdout",
     "output_type": "stream",
     "text": [
      "C:\\Users\\zain\\Downloads\\AI_Najeed\\haar-Feb_2019\\temp\\test_data10\\frame_62.bmp\n"
     ]
    },
    {
     "name": "stderr",
     "output_type": "stream",
     "text": [
      "c:\\users\\zain\\my_tensorflow\\lib\\site-packages\\sklearn\\base.py:493: UserWarning: X does not have valid feature names, but KMeans was fitted with feature names\n",
      "  warnings.warn(\n"
     ]
    },
    {
     "name": "stdout",
     "output_type": "stream",
     "text": [
      "C:\\Users\\zain\\Downloads\\AI_Najeed\\haar-Feb_2019\\temp\\test_data10\\frame_63.bmp\n"
     ]
    },
    {
     "name": "stderr",
     "output_type": "stream",
     "text": [
      "c:\\users\\zain\\my_tensorflow\\lib\\site-packages\\sklearn\\base.py:493: UserWarning: X does not have valid feature names, but KMeans was fitted with feature names\n",
      "  warnings.warn(\n"
     ]
    },
    {
     "name": "stdout",
     "output_type": "stream",
     "text": [
      "C:\\Users\\zain\\Downloads\\AI_Najeed\\haar-Feb_2019\\temp\\test_data10\\frame_64.bmp\n"
     ]
    },
    {
     "name": "stderr",
     "output_type": "stream",
     "text": [
      "c:\\users\\zain\\my_tensorflow\\lib\\site-packages\\sklearn\\base.py:493: UserWarning: X does not have valid feature names, but KMeans was fitted with feature names\n",
      "  warnings.warn(\n"
     ]
    },
    {
     "name": "stdout",
     "output_type": "stream",
     "text": [
      "C:\\Users\\zain\\Downloads\\AI_Najeed\\haar-Feb_2019\\temp\\test_data10\\frame_66.bmp\n"
     ]
    },
    {
     "name": "stderr",
     "output_type": "stream",
     "text": [
      "c:\\users\\zain\\my_tensorflow\\lib\\site-packages\\sklearn\\base.py:493: UserWarning: X does not have valid feature names, but KMeans was fitted with feature names\n",
      "  warnings.warn(\n"
     ]
    },
    {
     "name": "stdout",
     "output_type": "stream",
     "text": [
      "C:\\Users\\zain\\Downloads\\AI_Najeed\\haar-Feb_2019\\temp\\test_data10\\frame_67.bmp\n"
     ]
    },
    {
     "name": "stderr",
     "output_type": "stream",
     "text": [
      "c:\\users\\zain\\my_tensorflow\\lib\\site-packages\\sklearn\\base.py:493: UserWarning: X does not have valid feature names, but KMeans was fitted with feature names\n",
      "  warnings.warn(\n"
     ]
    },
    {
     "name": "stdout",
     "output_type": "stream",
     "text": [
      "C:\\Users\\zain\\Downloads\\AI_Najeed\\haar-Feb_2019\\temp\\test_data10\\frame_68.bmp\n"
     ]
    },
    {
     "name": "stderr",
     "output_type": "stream",
     "text": [
      "c:\\users\\zain\\my_tensorflow\\lib\\site-packages\\sklearn\\base.py:493: UserWarning: X does not have valid feature names, but KMeans was fitted with feature names\n",
      "  warnings.warn(\n"
     ]
    },
    {
     "name": "stdout",
     "output_type": "stream",
     "text": [
      "C:\\Users\\zain\\Downloads\\AI_Najeed\\haar-Feb_2019\\temp\\test_data10\\frame_69.bmp\n"
     ]
    },
    {
     "name": "stderr",
     "output_type": "stream",
     "text": [
      "c:\\users\\zain\\my_tensorflow\\lib\\site-packages\\sklearn\\base.py:493: UserWarning: X does not have valid feature names, but KMeans was fitted with feature names\n",
      "  warnings.warn(\n"
     ]
    },
    {
     "name": "stdout",
     "output_type": "stream",
     "text": [
      "C:\\Users\\zain\\Downloads\\AI_Najeed\\haar-Feb_2019\\temp\\test_data10\\frame_70.bmp\n"
     ]
    },
    {
     "name": "stderr",
     "output_type": "stream",
     "text": [
      "c:\\users\\zain\\my_tensorflow\\lib\\site-packages\\sklearn\\base.py:493: UserWarning: X does not have valid feature names, but KMeans was fitted with feature names\n",
      "  warnings.warn(\n"
     ]
    }
   ],
   "source": [
    "\n",
    "\n",
    "# Define the function to process and predict the cluster for a new frame\n",
    "def process_and_predict_frame(frame_name, x, y, width, height, kmeans_model, frame_folder):\n",
    "    # Load the image\n",
    "    frame_path = os.path.join(frame_folder, frame_name)\n",
    "    frame = cv2.imread(frame_path)\n",
    "    print(frame_path)\n",
    "    # Check if the frame was loaded successfully\n",
    "    if frame is None:\n",
    "        print(f\"Error: Could not load image {frame_name}\")\n",
    "        return None\n",
    "\n",
    "    # Prepare the feature vector for prediction\n",
    "    features = np.array([[width, height]])\n",
    "    \n",
    "    # Predict the cluster\n",
    "    cluster = kmeans_model.predict(features)[0]\n",
    "\n",
    "    # Set the rectangle color based on the predicted cluster\n",
    "    if cluster == 0:\n",
    "        color = (0, 0, 255)  # Red for cluster 0\n",
    "    else:\n",
    "        color = (0, 255, 0)  # Green for cluster 1\n",
    "\n",
    "    # Draw the rectangle\n",
    "    cv2.rectangle(frame, (x, y), (x + width, y + height), color, 2)\n",
    "\n",
    "    return frame\n",
    "\n",
    "# Test data\n",
    "test_data = [\n",
    "    ['frame_61.bmp', 159, 211, 24, 47],\n",
    "    ['frame_62.bmp', 306, 74, 18, 33],\n",
    "    ['frame_63.bmp', 273, 72, 19, 33],\n",
    "    ['frame_64.bmp', 90, 183, 26, 43],\n",
    "    ['frame_66.bmp', 222, 76, 20, 42],\n",
    "    ['frame_67.bmp', 89, 119, 75, 50],\n",
    "    ['frame_68.bmp', 201, 150, 93, 64],\n",
    "    ['frame_69.bmp', 124, 215, 22, 45],\n",
    "    ['frame_70.bmp', 28, 142, 18, 41]\n",
    "]\n",
    "\n",
    "# Folder where your test frames are stored\n",
    "frame_folder = r'C:\\Users\\zain\\Downloads\\AI_Najeed\\haar-Feb_2019\\temp\\test_data10'\n",
    "\n",
    "# Process each frame in the test data\n",
    "for frame_data in test_data:\n",
    "    frame_name, x_cordinate, y_cordinate, width, height = frame_data\n",
    "    frame = process_and_predict_frame(frame_name, x_cordinate, y_cordinate, width, height, kmeans_area, frame_folder)\n",
    "    \n",
    "    if frame is not None:\n",
    "        cv2.imshow('Frame', frame)\n",
    "        cv2.waitKey(600)  # Display each frame for 600 ms\n",
    "\n",
    "cv2.destroyAllWindows()"
   ]
  },
  {
   "cell_type": "code",
   "execution_count": 17,
   "id": "73ae852b-0a42-465c-beec-c8e2f649449f",
   "metadata": {},
   "outputs": [
    {
     "data": {
      "image/png": "[encoded data removed]",
      "text/plain": [
       "<Figure size 1000x600 with 2 Axes>"
      ]
     },
     "metadata": {},
     "output_type": "display_data"
    },
    {
     "name": "stdout",
     "output_type": "stream",
     "text": [
      "[[18.91176471 34.35294118]\n",
      " [69.11538462 36.57692308]]\n"
     ]
    }
   ],
   "source": [
    "# Plotting the clusters and centroids based on Width and Height\n",
    "centroids = kmeans_area.cluster_centers_\n",
    "\n",
    "# Scatter plot for Width and Height colored by Area_Cluster\n",
    "import matplotlib.pyplot as plt\n",
    "\n",
    "plt.figure(figsize=(10, 6))\n",
    "scatter = plt.scatter(df_dropped_by_name['Width'], df_dropped_by_name['Height'], \n",
    "                      c=df_dropped_by_name['Area_Cluster'], cmap='viridis', alpha=0.6, edgecolor='k')\n",
    "\n",
    "# Plot centroids\n",
    "plt.scatter(centroids[:, 0], centroids[:, 1], \n",
    "            c='red', edgecolor='k', \n",
    "            marker='X', s=200, label='Centroids')\n",
    "\n",
    "# Add labels and title\n",
    "plt.xlabel('Width')\n",
    "plt.ylabel('Height')\n",
    "plt.title('K-Means Clustering based on Width and Height')\n",
    "plt.colorbar(scatter, label='Area Cluster')\n",
    "plt.legend()\n",
    "plt.show()\n",
    "\n",
    "print(centroids)\n"
   ]
  },
  {
   "cell_type": "code",
   "execution_count": null,
   "id": "1f6e9847-88e9-448a-9f51-0fed98d2d38c",
   "metadata": {},
   "outputs": [],
   "source": []
  }
 ],
 "metadata": {
  "kernelspec": {
   "display_name": "Python 3 (ipykernel)",
   "language": "python",
   "name": "python3"
  },
  "language_info": {
   "codemirror_mode": {
    "name": "ipython",
    "version": 3
   },
   "file_extension": ".py",
   "mimetype": "text/x-python",
   "name": "python",
   "nbconvert_exporter": "python",
   "pygments_lexer": "ipython3",
   "version": "3.9.1"
  }
 },
 "nbformat": 4,
 "nbformat_minor": 5
}
